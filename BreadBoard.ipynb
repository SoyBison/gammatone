{
 "cells": [
  {
   "cell_type": "code",
   "execution_count": 1,
   "metadata": {
    "pycharm": {
     "name": "#%%\n"
    }
   },
   "outputs": [],
   "source": [
    "import pyopencl as cl\n",
    "from pyopencl.elementwise import ElementwiseKernel\n",
    "import pyopencl.array as cla\n",
    "import pyopencl.clmath as clm\n",
    "from pyopencl.elementwise import ElementwiseKernel\n",
    "import numpy as np\n",
    "import math\n",
    "import time\n",
    "import soundfile\n",
    "from scipy import signal as sgn\n",
    "import gammatone.filters as oldfilt\n",
    "import gammatonecl.filters as newfilt\n",
    "from matplotlib import pyplot as plt\n",
    "from tqdm import tqdm\n",
    "from pyopencl.scan import GenericScanKernel\n",
    "\n",
    "ctx = cl.create_some_context()\n",
    "q = cl.CommandQueue(ctx)\n",
    "M_PI = 3.14159265358979323846\n",
    "BW_CORRECTION = 1.0190\n",
    "\n",
    "def erb(x):\n",
    "    return 24.7 * ( 4.37e-3 * x + 1.0 )"
   ]
  },
  {
   "cell_type": "code",
   "execution_count": 2,
   "outputs": [],
   "source": [
    "samples, fs = soundfile.read('04 Traffic and Weather.flac')\n",
    "samples = np.ascontiguousarray(samples[:9557352, 0])\n",
    "samp_g = cla.to_device(q, samples)\n",
    "coseed = 1\n",
    "sineed = 0\n",
    "tpt = (M_PI + M_PI) / 44100\n",
    "tptbw = tpt * erb ( 5512.5 ) * BW_CORRECTION\n",
    "coscf = math.cos(tpt*5512.5)\n",
    "sincf = math.cos(tpt*5512.5)\n",
    "ts = np.arange(0, len(samples), dtype=np.float64)\n",
    "decay = np.exp(-tptbw)\n",
    "gain = np.float64((tptbw ** 4) / 3)"
   ],
   "metadata": {
    "collapsed": false,
    "pycharm": {
     "name": "#%%\n"
    }
   }
  },
  {
   "cell_type": "code",
   "execution_count": 3,
   "outputs": [],
   "source": [
    "q_maker = ElementwiseKernel(ctx,\n",
    "                            \"double *qcos, double *qsin, double *t, double tpt, double cf\",\n",
    "                            \"qcos[i] = cos(tpt * cf * t[i]); qsin[i] = - sin(tpt * cf * t[i])\"\n",
    "                            )"
   ],
   "metadata": {
    "collapsed": false,
    "pycharm": {
     "name": "#%%\n"
    }
   }
  },
  {
   "cell_type": "code",
   "execution_count": 4,
   "outputs": [
    {
     "name": "stdout",
     "output_type": "stream",
     "text": [
      "That took 0.06407308578491211 seconds.\n"
     ]
    }
   ],
   "source": [
    "t0 = time.time()\n",
    "ts_g = cla.to_device(q, ts)\n",
    "qcos = cla.empty_like(ts_g)\n",
    "qsin = cla.empty_like(ts_g)\n",
    "q_maker(qcos, qsin, ts_g, tpt, 5512.5)\n",
    "cosx = samp_g * qcos\n",
    "sinx = samp_g * qsin\n",
    "print(f'That took {time.time() - t0} seconds.')\n",
    "# qcos and qsin can be preprocessed very quickly\n",
    "\n"
   ],
   "metadata": {
    "collapsed": false,
    "pycharm": {
     "name": "#%%\n"
    }
   }
  },
  {
   "cell_type": "code",
   "execution_count": 5,
   "outputs": [],
   "source": [
    "p0 = GenericScanKernel(ctx, np.float64,\n",
    "                            arguments='double *x, double *y',\n",
    "                            preamble=f'__constant double d = {decay};',\n",
    "                            neutral='0',\n",
    "                            input_expr='x[i]',\n",
    "                            scan_expr='b',\n",
    "                            output_statement=\"\"\"y[i] = item + d*prev_item\"\"\"\n",
    "                            )\n",
    "\n",
    "p1 = GenericScanKernel(ctx, np.float64,\n",
    "                       arguments='double *x',\n",
    "                       preamble='__constant double d = 0.9139569249435527;',\n",
    "                       neutral='0',\n",
    "                       input_expr='x[i]',\n",
    "                       scan_expr='b',\n",
    "                       output_statement=\"x[i]= item - d*d*prev_item\")\n",
    "\n",
    "p2 = GenericScanKernel(ctx, np.float64,\n",
    "                       arguments='double *x',\n",
    "                       preamble='__constant double d = 0.9139569249435527;',\n",
    "                       neutral='0',\n",
    "                       input_expr='x[i]',\n",
    "                       scan_expr='b',\n",
    "                       output_statement=\"x[i]= item + 2*d*d*d*prev_item\")\n",
    "\n",
    "p3 = GenericScanKernel(ctx, np.float64,\n",
    "                       arguments='double *x',\n",
    "                       preamble='__constant double d = 0.9139569249435527;',\n",
    "                       neutral='0',\n",
    "                       input_expr='x[i]',\n",
    "                       scan_expr='b',\n",
    "                       output_statement=\"x[i]= item - d*d*d*d*prev_item\")\n",
    "\n",
    "u0 = ElementwiseKernel(ctx,\n",
    "                       'double *p0, double *p1, double *p2, double *y',\n",
    "                       'y[i] = p0[i] + 4.0 * d * p1[i] + d*d*p2[i]',\n",
    "                       preamble='__constant double d = 0.9139569249435527;')\n",
    "\n",
    "bm_maker = ElementwiseKernel(ctx,\n",
    "                             'double *ur, double *ui, double *qcos, double *qsin, double *y',\n",
    "                             'y[i] = (ur[i] * qcos[i] + ui[i] * qsin[i]) * 2.1842638127896094e-05')\n",
    "\n",
    "\n",
    "shift = ElementwiseKernel(ctx,\n",
    "                          \"double *x\",\n",
    "                          \"x[i] = x[i+1]\")"
   ],
   "metadata": {
    "collapsed": false,
    "pycharm": {
     "name": "#%%\n"
    }
   }
  },
  {
   "cell_type": "code",
   "execution_count": 6,
   "outputs": [
    {
     "name": "stdout",
     "output_type": "stream",
     "text": [
      "That took 0.10697388648986816 seconds\n"
     ]
    },
    {
     "data": {
      "text/plain": "[<matplotlib.lines.Line2D at 0x7f516c4c1430>]"
     },
     "execution_count": 6,
     "metadata": {},
     "output_type": "execute_result"
    },
    {
     "data": {
      "text/plain": "<Figure size 432x288 with 1 Axes>",
      "image/png": "[encoded data removed]"
     },
     "metadata": {
      "needs_background": "light"
     },
     "output_type": "display_data"
    }
   ],
   "source": [
    "bm_g = cla.empty_like(ts_g)\n",
    "p0r_g = cla.empty_like(ts_g)\n",
    "p0i_g = cla.empty_like(ts_g)\n",
    "ur_g = cla.empty_like(ts_g)\n",
    "ui_g = cla.empty_like(ts_g)\n",
    "t0 = time.time()\n",
    "p0(cosx, p0r_g)\n",
    "p0(sinx, p0i_g)\n",
    "p1(p0r_g)\n",
    "p1(p0i_g)\n",
    "p2(p0r_g)\n",
    "p2(p0i_g)\n",
    "p3(p0r_g)\n",
    "p3(p0i_g)\n",
    "p1r_g = p0r_g.copy(q)\n",
    "shift(p1r_g)\n",
    "p2r_g = p1r_g.copy(q)\n",
    "shift(p2r_g)\n",
    "\n",
    "p1i_g = p0i_g.copy(q)\n",
    "shift(p1i_g)\n",
    "p2i_g = p1i_g.copy(q)\n",
    "shift(p2i_g)\n",
    "u0(p0r_g, p1r_g, p2r_g, ur_g)\n",
    "u0(p0i_g, p1i_g, p2i_g, ui_g)\n",
    "bm_maker(ur_g, ui_g, qcos, qsin, bm_g)\n",
    "x = (bm_g**2).get()\n",
    "print(f'That took {time.time() - t0} seconds')\n",
    "plt.plot(x)"
   ],
   "metadata": {
    "collapsed": false,
    "pycharm": {
     "name": "#%%\n"
    }
   }
  },
  {
   "cell_type": "code",
   "execution_count": 44,
   "outputs": [
    {
     "name": "stdout",
     "output_type": "stream",
     "text": [
      "that took 0.6363475322723389 seconds\n"
     ]
    },
    {
     "data": {
      "text/plain": "[<matplotlib.lines.Line2D at 0x7f31aaaa2190>]"
     },
     "execution_count": 44,
     "metadata": {},
     "output_type": "execute_result"
    },
    {
     "data": {
      "text/plain": "<Figure size 432x288 with 1 Axes>",
      "image/png": "[encoded data removed]"
     },
     "metadata": {
      "needs_background": "light"
     },
     "output_type": "display_data"
    }
   ],
   "source": [
    "from gammatone import gtgram\n",
    "t0 = time.time()\n",
    "coefs = gtgram.make_erb_filters(44100, 5512.5)\n",
    "x = gtgram.erb_filterbank(samples, coefs)[0]\n",
    "x=np.power(x, 2)\n",
    "print(f'that took {time.time() - t0} seconds')\n",
    "plt.plot(x)"
   ],
   "metadata": {
    "collapsed": false,
    "pycharm": {
     "name": "#%%\n"
    }
   }
  },
  {
   "cell_type": "code",
   "execution_count": 8,
   "outputs": [],
   "source": [
    "p0 = GenericScanKernel(ctx, np.float64,\n",
    "                            arguments='double *x, double *y, double d',\n",
    "                            neutral='0',\n",
    "                            input_expr='x[i]',\n",
    "                            scan_expr='b*d',\n",
    "                            output_statement=\"\"\"y[i] = item - d*d*prev_item\"\"\"\n",
    "                            )\n",
    "\n",
    "p1 = GenericScanKernel(ctx, np.float64,\n",
    "                       arguments='double *x, double d',\n",
    "                       neutral='0',\n",
    "                       input_expr='x[i]',\n",
    "                       scan_expr='b*d*d*d',\n",
    "                       output_statement=\"x[i]= item - d*d*d*d*prev_item\")\n",
    "\n",
    "u0 = ElementwiseKernel(ctx,\n",
    "                       'double *p0, double *p1, double *p2, double *y, double d',\n",
    "                       'y[i] = p0[i] + 4.0 * d * p1[i] + d*d*p2[i]')\n",
    "\n",
    "bm_maker = ElementwiseKernel(ctx,\n",
    "                             'double *ur, double *ui, double *qcos, double *qsin, double *y, double g',\n",
    "                             'y[i] = (ur[i] * qcos[i] + ui[i] * qsin[i]) * g')\n",
    "\n",
    "\n",
    "shift = ElementwiseKernel(ctx,\n",
    "                          \"double *x\",\n",
    "                          \"x[i] = x[i+1]\")"
   ],
   "metadata": {
    "collapsed": false,
    "pycharm": {
     "name": "#%%\n"
    }
   }
  },
  {
   "cell_type": "code",
   "execution_count": 9,
   "outputs": [
    {
     "name": "stdout",
     "output_type": "stream",
     "text": [
      "That took 0.08082342147827148 seconds\n"
     ]
    },
    {
     "data": {
      "text/plain": "[<matplotlib.lines.Line2D at 0x7f515c59f1f0>]"
     },
     "execution_count": 9,
     "metadata": {},
     "output_type": "execute_result"
    },
    {
     "data": {
      "text/plain": "<Figure size 432x288 with 1 Axes>",
      "image/png": "[encoded data removed]"
     },
     "metadata": {
      "needs_background": "light"
     },
     "output_type": "display_data"
    }
   ],
   "source": [
    "bm_g = cla.empty_like(ts_g)\n",
    "p0r_g = cla.empty_like(ts_g)\n",
    "p0i_g = cla.empty_like(ts_g)\n",
    "ur_g = cla.empty_like(ts_g)\n",
    "ui_g = cla.empty_like(ts_g)\n",
    "t0 = time.time()\n",
    "p0(cosx, p0r_g, decay)\n",
    "p0(sinx, p0i_g, decay)\n",
    "p1(p0r_g, decay)\n",
    "p1(p0i_g, decay)\n",
    "p1r_g = p0r_g.copy(q)\n",
    "shift(p1r_g)\n",
    "p2r_g = p1r_g.copy(q)\n",
    "shift(p2r_g)\n",
    "\n",
    "p1i_g = p0i_g.copy(q)\n",
    "shift(p1i_g)\n",
    "p2i_g = p1i_g.copy(q)\n",
    "shift(p2i_g)\n",
    "u0(p0r_g, p1r_g, p2r_g, ur_g, decay)\n",
    "u0(p0i_g, p1i_g, p2i_g, ui_g, decay)\n",
    "bm_maker(ur_g, ui_g, qcos, qsin, bm_g, gain)\n",
    "cl_x = (bm_g**2).get()\n",
    "print(f'That took {time.time() - t0} seconds')\n",
    "plt.plot(cl_x)"
   ],
   "metadata": {
    "collapsed": false,
    "pycharm": {
     "name": "#%%\n"
    }
   }
  },
  {
   "cell_type": "code",
   "execution_count": 19,
   "outputs": [
    {
     "name": "stdout",
     "output_type": "stream",
     "text": [
      "that took 0.8252241611480713 seconds\n"
     ]
    },
    {
     "data": {
      "text/plain": "[<matplotlib.lines.Line2D at 0x7ff666d222b0>]"
     },
     "execution_count": 19,
     "metadata": {},
     "output_type": "execute_result"
    },
    {
     "data": {
      "text/plain": "<Figure size 432x288 with 1 Axes>",
      "image/png": "[encoded data removed]"
     },
     "metadata": {
      "needs_background": "light"
     },
     "output_type": "display_data"
    }
   ],
   "source": [
    "from gammatone import gtgram\n",
    "t0 = time.time()\n",
    "coefs = gtgram.make_erb_filters(44100, 5512.5)\n",
    "x = gtgram.erb_filterbank(samples, coefs)[0]\n",
    "x = np.power(x, 2)\n",
    "print(f'that took {time.time() - t0} seconds')\n",
    "plt.plot(x)"
   ],
   "metadata": {
    "collapsed": false,
    "pycharm": {
     "name": "#%%\n"
    }
   }
  },
  {
   "cell_type": "code",
   "execution_count": 21,
   "outputs": [],
   "source": [
    "def get_coefficients(signal, fs, cfs):\n",
    "    samp_g = cla.to_device(q, signal)\n",
    "    tpt = (M_PI + M_PI) / fs\n",
    "    ts_g = cla.arange(q, 0, len(signal))\n",
    "    coefficients = []\n",
    "    if type(cfs) != list:\n",
    "        cfs = [cfs]\n",
    "    for cf in cfs:\n",
    "        # Calculating the parameters for the given center frequencies\n",
    "        tptbw = tpt * erb ( cf ) * BW_CORRECTION\n",
    "        decay = np.exp(-tptbw)\n",
    "        gain = np.float64((tptbw ** 4) / 3)\n",
    "        # Setting up memory for everything.\n",
    "        qcos = cla.empty_like(ts_g)\n",
    "        qsin = cla.empty_like(ts_g)\n",
    "        bm_g = cla.empty_like(ts_g)\n",
    "        p0r_g = cla.empty_like(ts_g)\n",
    "        p0i_g = cla.empty_like(ts_g)\n",
    "        ur_g = cla.empty_like(ts_g)\n",
    "        ui_g = cla.empty_like(ts_g)\n",
    "        # Preparing the imaginary/real cyclical effects\n",
    "        q_maker(qcos, qsin, ts_g, tpt, cf)\n",
    "        cosx = samp_g * qcos\n",
    "        sinx = samp_g * qsin\n",
    "        # Performing the filtering operation\n",
    "        p0(cosx, p0r_g, decay)\n",
    "        p0(sinx, p0i_g, decay)\n",
    "        p1(p0r_g, decay)\n",
    "        p1(p0i_g, decay)\n",
    "        # Preparing the memory to calculate basilar membrane displacement.\n",
    "        p1r_g = p0r_g.copy(q)\n",
    "        shift(p1r_g)\n",
    "        p2r_g = p1r_g.copy(q)\n",
    "        shift(p2r_g)\n",
    "        p1i_g = p0i_g.copy(q)\n",
    "        shift(p1i_g)\n",
    "        p2i_g = p1i_g.copy(q)\n",
    "        shift(p2i_g)\n",
    "        # Calculating Basilar Membrane displacement\n",
    "        u0(p0r_g, p1r_g, p2r_g, ur_g, decay)\n",
    "        u0(p0i_g, p1i_g, p2i_g, ui_g, decay)\n",
    "        bm_maker(ur_g, ui_g, qcos, qsin, bm_g, gain)\n",
    "        # Append to the list\n",
    "        cl_x = (bm_g**2).get()\n",
    "        coefficients.append(cl_x)\n",
    "\n",
    "    return np.row_stack(coefficients)"
   ],
   "metadata": {
    "collapsed": false,
    "pycharm": {
     "name": "#%%\n"
    }
   }
  },
  {
   "cell_type": "code",
   "execution_count": null,
   "outputs": [],
   "source": [],
   "metadata": {
    "collapsed": false,
    "pycharm": {
     "name": "#%%\n"
    }
   }
  },
  {
   "cell_type": "code",
   "execution_count": 27,
   "outputs": [
    {
     "name": "stdout",
     "output_type": "stream",
     "text": [
      "that took 0.14272499084472656 seconds\n"
     ]
    },
    {
     "data": {
      "text/plain": "[<matplotlib.lines.Line2D at 0x7fbe4e8b5220>]"
     },
     "execution_count": 27,
     "metadata": {},
     "output_type": "execute_result"
    },
    {
     "data": {
      "text/plain": "<Figure size 432x288 with 1 Axes>",
      "image/png": "[encoded data removed]"
     },
     "metadata": {
      "needs_background": "light"
     },
     "output_type": "display_data"
    }
   ],
   "source": [
    "from gammatone import gtgram\n",
    "t0 = time.time()\n",
    "coefs = gtgram.make_erb_filters(44100, 5512.5)\n",
    "x = gtgram.erb_filterbank(samples, coefs)[0]\n",
    "print(f'that took {time.time() - t0} seconds')\n",
    "plt.plot(x)"
   ],
   "metadata": {
    "collapsed": false,
    "pycharm": {
     "name": "#%%\n"
    }
   }
  },
  {
   "cell_type": "code",
   "execution_count": 97,
   "outputs": [
    {
     "name": "stdout",
     "output_type": "stream",
     "text": [
      "[[ 0.  1.  2.  3.  4.  5.  6.  7.  8.  9.]\n",
      " [ 0.  1.  4.  9. 16. 25. 36. 49. 64. 81.]\n",
      " [ 0.  1.  3.  6. 10. 15. 21. 28. 36. 45.]]\n"
     ]
    }
   ],
   "source": [
    "test_g = cla.arange(q, 0, 10, dtype=np.float64)\n",
    "y_g = cla.zeros_like(test_g)\n",
    "z_g = cla.zeros_like(test_g)\n",
    "\n",
    "test_scan = GenericScanKernel(ctx, np.float64,\n",
    "                              arguments='double *x, double *y, double *z',\n",
    "                              neutral='0',\n",
    "                              input_expr='x[i]',\n",
    "                              scan_expr='a + b',\n",
    "                              output_statement='y[i] = item, z[i] = y[i] + prev_item')\n",
    "\n",
    "test_scan(test_g, y_g, z_g)\n",
    "x = test_g.get()\n",
    "y = y_g.get()\n",
    "z = z_g.get()\n",
    "out = np.row_stack([x,z,y])\n",
    "print(out)"
   ],
   "metadata": {
    "collapsed": false,
    "pycharm": {
     "name": "#%%\n"
    }
   }
  },
  {
   "cell_type": "code",
   "execution_count": 29,
   "outputs": [],
   "source": [
    "elem = ElementwiseKernel(ctx,\n",
    "                         \"double *x, double *y\",\n",
    "                         \"y[i] = x[i-1] + y[i-1]\")"
   ],
   "metadata": {
    "collapsed": false,
    "pycharm": {
     "name": "#%%\n"
    }
   }
  },
  {
   "cell_type": "code",
   "execution_count": 30,
   "outputs": [
    {
     "data": {
      "text/plain": "array([0., 0., 1., 2., 3., 4., 5., 6., 7., 8.])"
     },
     "execution_count": 30,
     "metadata": {},
     "output_type": "execute_result"
    }
   ],
   "source": [
    "test_g = cla.arange(q, 0, 10, dtype=np.float64)\n",
    "y_g = cla.zeros_like(test_g)\n",
    "elem(test_g, y_g)\n",
    "y_g"
   ],
   "metadata": {
    "collapsed": false,
    "pycharm": {
     "name": "#%%\n"
    }
   }
  },
  {
   "cell_type": "code",
   "execution_count": 19,
   "outputs": [
    {
     "ename": "NameError",
     "evalue": "name 'x' is not defined",
     "output_type": "error",
     "traceback": [
      "\u001B[0;31m---------------------------------------------------------------------------\u001B[0m",
      "\u001B[0;31mNameError\u001B[0m                                 Traceback (most recent call last)",
      "\u001B[0;32m<ipython-input-19-49db04b5077c>\u001B[0m in \u001B[0;36m<module>\u001B[0;34m\u001B[0m\n\u001B[0;32m----> 1\u001B[0;31m \u001B[0mbiquad\u001B[0m\u001B[0;34m.\u001B[0m\u001B[0mrone\u001B[0m\u001B[0;34m(\u001B[0m\u001B[0mx\u001B[0m\u001B[0;34m)\u001B[0m\u001B[0;34m\u001B[0m\u001B[0;34m\u001B[0m\u001B[0m\n\u001B[0m\u001B[1;32m      2\u001B[0m \u001B[0;34m\u001B[0m\u001B[0m\n\u001B[1;32m      3\u001B[0m \u001B[0;34m\u001B[0m\u001B[0m\n",
      "\u001B[0;31mNameError\u001B[0m: name 'x' is not defined"
     ]
    }
   ],
   "source": [
    "\n"
   ],
   "metadata": {
    "collapsed": false,
    "pycharm": {
     "name": "#%%\n"
    }
   }
  }
 ],
 "metadata": {
  "kernelspec": {
   "name": "python38264bitvenvvenv3a2620095bc94f1891ba377d0a440f1c",
   "language": "python",
   "display_name": "Python 3.8.2 64-bit ('venv': venv)"
  },
  "language_info": {
   "codemirror_mode": {
    "name": "ipython",
    "version": 3
   },
   "file_extension": ".py",
   "mimetype": "text/x-python",
   "name": "python",
   "nbconvert_exporter": "python",
   "pygments_lexer": "ipython3",
   "version": "3.8.2-final"
  }
 },
 "nbformat": 4,
 "nbformat_minor": 4
}